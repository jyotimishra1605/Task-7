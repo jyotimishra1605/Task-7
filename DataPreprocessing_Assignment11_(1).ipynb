{
 "cells": [
  {
   "cell_type": "code",
   "execution_count": null,
   "metadata": {
    "id": "IUjqX9hqbb-6"
   },
   "outputs": [],
   "source": [
    "#Data.csv"
   ]
  },
  {
   "cell_type": "markdown",
   "metadata": {
    "id": "AketbKR7cAaF"
   },
   "source": [
    "**Step 1: Importing the libraries**"
   ]
  },
  {
   "cell_type": "code",
   "execution_count": 17,
   "metadata": {
    "id": "_ApieS21bdbN"
   },
   "outputs": [],
   "source": [
    "import itertools as it\n",
    "import matplotlib.pyplot as plt\n",
    "import numpy as np\n",
    "import pandas as pd\n",
    "from sklearn import linear_model\n",
    "from copy import deepcopy\n",
    "%matplotlib inline\n",
    "from sklearn import linear_model\n",
    "import seaborn as sns\n",
    "from sklearn.preprocessing import OneHotEncoder\n",
    "from sklearn import preprocessing"
   ]
  },
  {
   "cell_type": "markdown",
   "metadata": {
    "id": "Gq1_kSwHcH4n"
   },
   "source": [
    "**Step 2: Importing dataset**"
   ]
  },
  {
   "cell_type": "code",
   "execution_count": 11,
   "metadata": {
    "id": "HefV9KfcbdoE"
   },
   "outputs": [
    {
     "name": "stdout",
     "output_type": "stream",
     "text": [
      "   Country   Age   Salary Purchased\n",
      "0   France  44.0  72000.0        No\n",
      "1    Spain  27.0  48000.0       Yes\n",
      "2  Germany  30.0  54000.0        No\n",
      "3    Spain  38.0  61000.0        No\n",
      "4  Germany  40.0      NaN       Yes\n",
      "5   France  35.0  58000.0       Yes\n",
      "6    Spain   NaN  52000.0        No\n",
      "7   France  48.0  79000.0       Yes\n",
      "8  Germany  50.0  83000.0        No\n",
      "9   France  37.0  67000.0       Yes\n",
      "(10, 4)\n"
     ]
    }
   ],
   "source": [
    "# reading data from a .csv file to a Pandas DataFrame\n",
    "df = pd.read_csv('Data.csv')\n",
    "print(df)\n",
    "print(df.shape)"
   ]
  },
  {
   "cell_type": "markdown",
   "metadata": {
    "id": "FxaiAQCQcX7Z"
   },
   "source": [
    "**Step 3: Handling the missing data**"
   ]
  },
  {
   "cell_type": "code",
   "execution_count": 14,
   "metadata": {
    "id": "veMJJywXbdr-"
   },
   "outputs": [
    {
     "data": {
      "text/plain": [
       "Country      0\n",
       "Age          0\n",
       "Salary       0\n",
       "Purchased    0\n",
       "dtype: int64"
      ]
     },
     "execution_count": 14,
     "metadata": {},
     "output_type": "execute_result"
    }
   ],
   "source": [
    "df.isnull().sum()\n",
    "df['Salary'].fillna(value=df['Salary'].mean(), inplace=True)\n",
    "df['Age'].fillna(value=df['Age'].mean(), inplace=True)\n",
    "df.isnull().sum()"
   ]
  },
  {
   "cell_type": "markdown",
   "metadata": {
    "id": "wBdj7QVmciFh"
   },
   "source": [
    "**Step 4: Encoding categorical data**"
   ]
  },
  {
   "cell_type": "code",
   "execution_count": 16,
   "metadata": {
    "id": "Nbgm4YJBbdwG"
   },
   "outputs": [
    {
     "data": {
      "text/html": [
       "<div>\n",
       "<style scoped>\n",
       "    .dataframe tbody tr th:only-of-type {\n",
       "        vertical-align: middle;\n",
       "    }\n",
       "\n",
       "    .dataframe tbody tr th {\n",
       "        vertical-align: top;\n",
       "    }\n",
       "\n",
       "    .dataframe thead th {\n",
       "        text-align: right;\n",
       "    }\n",
       "</style>\n",
       "<table border=\"1\" class=\"dataframe\">\n",
       "  <thead>\n",
       "    <tr style=\"text-align: right;\">\n",
       "      <th></th>\n",
       "      <th>Country</th>\n",
       "      <th>Age</th>\n",
       "      <th>Salary</th>\n",
       "      <th>Purchased</th>\n",
       "    </tr>\n",
       "  </thead>\n",
       "  <tbody>\n",
       "    <tr>\n",
       "      <th>0</th>\n",
       "      <td>France</td>\n",
       "      <td>44.000000</td>\n",
       "      <td>72000.000000</td>\n",
       "      <td>0</td>\n",
       "    </tr>\n",
       "    <tr>\n",
       "      <th>1</th>\n",
       "      <td>Spain</td>\n",
       "      <td>27.000000</td>\n",
       "      <td>48000.000000</td>\n",
       "      <td>1</td>\n",
       "    </tr>\n",
       "    <tr>\n",
       "      <th>2</th>\n",
       "      <td>Germany</td>\n",
       "      <td>30.000000</td>\n",
       "      <td>54000.000000</td>\n",
       "      <td>0</td>\n",
       "    </tr>\n",
       "    <tr>\n",
       "      <th>3</th>\n",
       "      <td>Spain</td>\n",
       "      <td>38.000000</td>\n",
       "      <td>61000.000000</td>\n",
       "      <td>0</td>\n",
       "    </tr>\n",
       "    <tr>\n",
       "      <th>4</th>\n",
       "      <td>Germany</td>\n",
       "      <td>40.000000</td>\n",
       "      <td>63777.777778</td>\n",
       "      <td>1</td>\n",
       "    </tr>\n",
       "    <tr>\n",
       "      <th>5</th>\n",
       "      <td>France</td>\n",
       "      <td>35.000000</td>\n",
       "      <td>58000.000000</td>\n",
       "      <td>1</td>\n",
       "    </tr>\n",
       "    <tr>\n",
       "      <th>6</th>\n",
       "      <td>Spain</td>\n",
       "      <td>38.777778</td>\n",
       "      <td>52000.000000</td>\n",
       "      <td>0</td>\n",
       "    </tr>\n",
       "    <tr>\n",
       "      <th>7</th>\n",
       "      <td>France</td>\n",
       "      <td>48.000000</td>\n",
       "      <td>79000.000000</td>\n",
       "      <td>1</td>\n",
       "    </tr>\n",
       "    <tr>\n",
       "      <th>8</th>\n",
       "      <td>Germany</td>\n",
       "      <td>50.000000</td>\n",
       "      <td>83000.000000</td>\n",
       "      <td>0</td>\n",
       "    </tr>\n",
       "    <tr>\n",
       "      <th>9</th>\n",
       "      <td>France</td>\n",
       "      <td>37.000000</td>\n",
       "      <td>67000.000000</td>\n",
       "      <td>1</td>\n",
       "    </tr>\n",
       "  </tbody>\n",
       "</table>\n",
       "</div>"
      ],
      "text/plain": [
       "   Country        Age        Salary  Purchased\n",
       "0   France  44.000000  72000.000000          0\n",
       "1    Spain  27.000000  48000.000000          1\n",
       "2  Germany  30.000000  54000.000000          0\n",
       "3    Spain  38.000000  61000.000000          0\n",
       "4  Germany  40.000000  63777.777778          1\n",
       "5   France  35.000000  58000.000000          1\n",
       "6    Spain  38.777778  52000.000000          0\n",
       "7   France  48.000000  79000.000000          1\n",
       "8  Germany  50.000000  83000.000000          0\n",
       "9   France  37.000000  67000.000000          1"
      ]
     },
     "execution_count": 16,
     "metadata": {},
     "output_type": "execute_result"
    }
   ],
   "source": [
    "df.dtypes\n",
    "label_encoder = preprocessing.LabelEncoder()  \n",
    "# Encode labels in column 'Purchased'.\n",
    "df['Purchased']= label_encoder.fit_transform(df['Purchased'])\n",
    "df['Purchased'].unique()"
   ]
  },
  {
   "cell_type": "markdown",
   "metadata": {
    "id": "cFSk6n3XcpIs"
   },
   "source": [
    "**Step 5: Creating a dummy variable**"
   ]
  },
  {
   "cell_type": "code",
   "execution_count": 24,
   "metadata": {
    "id": "9ETxfCgZbd0O"
   },
   "outputs": [
    {
     "name": "stdout",
     "output_type": "stream",
     "text": [
      "         Age        Salary  Purchased  Country_France  Country_Germany  \\\n",
      "0  44.000000  72000.000000          0               1                0   \n",
      "1  27.000000  48000.000000          1               0                0   \n",
      "2  30.000000  54000.000000          0               0                1   \n",
      "3  38.000000  61000.000000          0               0                0   \n",
      "4  40.000000  63777.777778          1               0                1   \n",
      "5  35.000000  58000.000000          1               1                0   \n",
      "6  38.777778  52000.000000          0               0                0   \n",
      "7  48.000000  79000.000000          1               1                0   \n",
      "8  50.000000  83000.000000          0               0                1   \n",
      "9  37.000000  67000.000000          1               1                0   \n",
      "\n",
      "   Country_Spain  \n",
      "0              0  \n",
      "1              1  \n",
      "2              0  \n",
      "3              1  \n",
      "4              0  \n",
      "5              0  \n",
      "6              1  \n",
      "7              0  \n",
      "8              0  \n",
      "9              0  \n"
     ]
    }
   ],
   "source": [
    "df = pd.get_dummies(df, columns = ['Country'])\n",
    "print(df)"
   ]
  },
  {
   "cell_type": "markdown",
   "metadata": {
    "id": "QSSKm1p4c2md"
   },
   "source": [
    "**Step 6: Splitting the datasets into training sets and Test sets**"
   ]
  },
  {
   "cell_type": "code",
   "execution_count": 27,
   "metadata": {
    "id": "kw21hHAqbd4x"
   },
   "outputs": [],
   "source": [
    "def split(df):\n",
    "  X = df.drop('Purchased',axis=1)\n",
    "  y = df['Purchased']\n",
    "  return X,y"
   ]
  },
  {
   "cell_type": "code",
   "execution_count": 28,
   "metadata": {},
   "outputs": [],
   "source": [
    "X, y = split(df)"
   ]
  },
  {
   "cell_type": "code",
   "execution_count": 33,
   "metadata": {},
   "outputs": [
    {
     "name": "stdout",
     "output_type": "stream",
     "text": [
      "(8, 5) (2, 5) (8,) (2,)\n"
     ]
    }
   ],
   "source": [
    "#splitting the data into training and testing sets with the ratio of 8:2\n",
    "from sklearn.model_selection import train_test_split\n",
    "X_train, X_test, y_train, y_test = train_test_split(X,y,test_size=0.2,random_state=42)\n",
    "print(X_train.shape,X_test.shape,y_train.shape,y_test.shape)"
   ]
  },
  {
   "cell_type": "markdown",
   "metadata": {
    "id": "YA8VCdb5c9Dh"
   },
   "source": [
    "**Step 7: Feature Scaling**"
   ]
  },
  {
   "cell_type": "code",
   "execution_count": 34,
   "metadata": {
    "id": "LhV2lO1Gbd9l"
   },
   "outputs": [],
   "source": [
    "from sklearn.preprocessing import StandardScaler # importing the required function\n",
    "scaler = StandardScaler() #initialis\n",
    "scaler.fit(X_train) # find the values of mu and sigma\n",
    "X_train = scaler.transform(X_train)\n",
    "X_test = scaler.transform(X_test) #only transform the test dataset, dont fit it"
   ]
  },
  {
   "cell_type": "code",
   "execution_count": 36,
   "metadata": {
    "id": "zRwvGcTdbeCd"
   },
   "outputs": [
    {
     "data": {
      "text/plain": [
       "array([[-0.7529426 , -0.62603778,  1.        , -0.57735027, -0.57735027],\n",
       "       [ 1.00845381,  1.01304295,  1.        , -0.57735027, -0.57735027],\n",
       "       [ 1.79129666,  1.83258331,  1.        , -0.57735027, -0.57735027],\n",
       "       [-1.73149616, -1.09434656, -1.        ,  1.73205081, -0.57735027],\n",
       "       [-0.36152118,  0.42765698,  1.        , -0.57735027, -0.57735027],\n",
       "       [ 0.22561096,  0.05040824, -1.        ,  1.73205081, -0.57735027],\n",
       "       [-0.16581046, -0.27480619, -1.        , -0.57735027,  1.73205081],\n",
       "       [-0.01359102, -1.32850095, -1.        , -0.57735027,  1.73205081]])"
      ]
     },
     "execution_count": 36,
     "metadata": {},
     "output_type": "execute_result"
    }
   ],
   "source": [
    "X_train"
   ]
  }
 ],
 "metadata": {
  "colab": {
   "provenance": []
  },
  "kernelspec": {
   "display_name": "Python 3 (ipykernel)",
   "language": "python",
   "name": "python3"
  },
  "language_info": {
   "codemirror_mode": {
    "name": "ipython",
    "version": 3
   },
   "file_extension": ".py",
   "mimetype": "text/x-python",
   "name": "python",
   "nbconvert_exporter": "python",
   "pygments_lexer": "ipython3",
   "version": "3.9.7"
  }
 },
 "nbformat": 4,
 "nbformat_minor": 1
}
